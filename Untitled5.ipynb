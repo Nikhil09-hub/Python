{
  "nbformat": 4,
  "nbformat_minor": 0,
  "metadata": {
    "colab": {
      "provenance": [],
      "authorship_tag": "ABX9TyMz9bFSAbdnmHGqQcAcwJgg",
      "include_colab_link": true
    },
    "kernelspec": {
      "name": "python3",
      "display_name": "Python 3"
    },
    "language_info": {
      "name": "python"
    }
  },
  "cells": [
    {
      "cell_type": "markdown",
      "metadata": {
        "id": "view-in-github",
        "colab_type": "text"
      },
      "source": [
        "<a href=\"https://colab.research.google.com/github/Nikhil09-hub/Python/blob/Practice/Untitled5.ipynb\" target=\"_parent\"><img src=\"https://colab.research.google.com/assets/colab-badge.svg\" alt=\"Open In Colab\"/></a>"
      ]
    },
    {
      "cell_type": "code",
      "execution_count": 1,
      "metadata": {
        "colab": {
          "base_uri": "https://localhost:8080/"
        },
        "id": "APCCdjG5cbFM",
        "outputId": "96c6da14-a4b1-47cc-b1bb-7a5b198c318a"
      },
      "outputs": [
        {
          "output_type": "execute_result",
          "data": {
            "text/plain": [
              "3"
            ]
          },
          "metadata": {},
          "execution_count": 1
        }
      ],
      "source": [
        "l1=[1,2,3,4,5,6,7,8]\n",
        "l1[2]"
      ]
    },
    {
      "cell_type": "code",
      "source": [
        "a=[]\n",
        "n=int(input(\"Enter no of elements:\"))\n",
        "sum=avg=0\n",
        "for i in range(0,n):\n",
        "  a.append(int(input(f\"Enter element {i+1}: \")))\n",
        "for i in range(0,n):\n",
        "  sum=sum+a[i]\n",
        "\n",
        "avg=sum/n\n",
        "print(\"Sum is :\",sum,\"Average is: \",avg)\n",
        ""
      ],
      "metadata": {
        "id": "sDyC1u-uk4sE"
      },
      "execution_count": null,
      "outputs": []
    },
    {
      "cell_type": "code",
      "source": [],
      "metadata": {
        "id": "0aD0fcArixxo"
      },
      "execution_count": null,
      "outputs": []
    }
  ]
}