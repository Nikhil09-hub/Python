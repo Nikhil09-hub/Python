{
  "nbformat": 4,
  "nbformat_minor": 0,
  "metadata": {
    "colab": {
      "provenance": [],
      "authorship_tag": "ABX9TyPGcpWbC3oNpJTPyzWtRub0",
      "include_colab_link": true
    },
    "kernelspec": {
      "name": "python3",
      "display_name": "Python 3"
    },
    "language_info": {
      "name": "python"
    }
  },
  "cells": [
    {
      "cell_type": "markdown",
      "metadata": {
        "id": "view-in-github",
        "colab_type": "text"
      },
      "source": [
        "<a href=\"https://colab.research.google.com/github/Nikhil09-hub/Python/blob/main/Practice-Problems/Questions.ipynb\" target=\"_parent\"><img src=\"https://colab.research.google.com/assets/colab-badge.svg\" alt=\"Open In Colab\"/></a>"
      ]
    },
    {
      "cell_type": "code",
      "execution_count": 2,
      "metadata": {
        "id": "0FZcovp5Dm9K",
        "outputId": "1efaabfb-8964-4c2c-9d5d-763d054a6f24",
        "colab": {
          "base_uri": "https://localhost:8080/"
        }
      },
      "outputs": [
        {
          "output_type": "stream",
          "name": "stdout",
          "text": [
            "Enter any string:Hello\n",
            "No of vowels = 2\n",
            "No of consonats= 3\n"
          ]
        }
      ],
      "source": [
        "#To count vowels and consonants\n",
        "\n",
        "string=input(\"Enter any string:\").lower()\n",
        "vowel=\"aeiou\"\n",
        "vowel_count=0\n",
        "cons_count=0\n",
        "for char in string:\n",
        "  if char in vowel:\n",
        "    vowel_count+=1\n",
        "  else :\n",
        "    cons_count+=1\n",
        "print(f\"No of vowels = {vowel_count}\\nNo of consonats= {cons_count}\")\n",
        "\n",
        ""
      ]
    },
    {
      "cell_type": "code",
      "source": [],
      "metadata": {
        "id": "_QKfYlb5E37z"
      },
      "execution_count": null,
      "outputs": []
    }
  ]
}