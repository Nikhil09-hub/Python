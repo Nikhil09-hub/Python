{
  "nbformat": 4,
  "nbformat_minor": 0,
  "metadata": {
    "colab": {
      "provenance": [],
      "authorship_tag": "ABX9TyNEGnDnMRLLsi39tNlap2/M",
      "include_colab_link": true
    },
    "kernelspec": {
      "name": "python3",
      "display_name": "Python 3"
    },
    "language_info": {
      "name": "python"
    }
  },
  "cells": [
    {
      "cell_type": "markdown",
      "metadata": {
        "id": "view-in-github",
        "colab_type": "text"
      },
      "source": [
        "<a href=\"https://colab.research.google.com/github/Nikhil09-hub/Python/blob/main/Practice-Problems/Arrays.ipynb\" target=\"_parent\"><img src=\"https://colab.research.google.com/assets/colab-badge.svg\" alt=\"Open In Colab\"/></a>"
      ]
    },
    {
      "cell_type": "code",
      "execution_count": null,
      "metadata": {
        "colab": {
          "base_uri": "https://localhost:8080/"
        },
        "id": "-CA_PCmc44Kv",
        "outputId": "0fbd6de3-e1aa-47d9-950f-6a17e3a8a117"
      },
      "outputs": [
        {
          "output_type": "stream",
          "name": "stdout",
          "text": [
            "Index 0 : 10\n",
            "Index 1 : 20\n",
            "Index 2 : 30\n",
            "Index 3 : 40\n",
            "Index 4 : 50\n",
            "Element 1: 10\n",
            "Element 2: 20\n",
            "Element 3: 30\n",
            "Element 4: 40\n",
            "Element 5: 50\n",
            "Using Backward traversal\n",
            "Index 4 : 50\n",
            "Index 3 : 40\n",
            "Index 2 : 30\n",
            "Index 1 : 20\n",
            "Index 0 : 10\n",
            "50 40 30 20 10 \n",
            "10 30 50 "
          ]
        }
      ],
      "source": [
        "arr = [10,20,30,40,50]  # Array initialization\n",
        "for i in range(len(arr)):\n",
        "  print(f\"Index {i} : {arr[i]}\")\n",
        "\n",
        "  #using enumerate\n",
        "for i,element in enumerate(arr):\n",
        "  print(f\"Element {i+1}: {element}\")\n",
        "\n",
        "#Using Backward traversal\n",
        "print(\"Using Backward traversal\")\n",
        "for i in range(len(arr)-1,-1,-1):\n",
        "  print(f\"Index {i} : {arr[i]}\")\n",
        "\n",
        "#Reverse using reversed\n",
        "for element in reversed(arr):\n",
        "  print(element,end=\" \")\n",
        "print()\n",
        "# Step traversal (every 2nd element)\n",
        "for i in range(0, len(arr), 2):\n",
        "    print(arr[i],end=\" \")"
      ]
    },
    {
      "cell_type": "code",
      "source": [
        "# Indexing examples\n",
        "arr = [10, 20, 30, 40, 50]\n",
        "print(arr[0])    #first element\n",
        "print(arr[-1])   #last element\n",
        "print(arr[-2])   #second last element\n",
        "\n",
        "# Slicing\n",
        "print(arr[1:4])  #elements from index 1 to 3\n",
        "print(arr[:3])   #first 3 elements\n",
        "print(arr[2:])   #from index 2 to end"
      ],
      "metadata": {
        "colab": {
          "base_uri": "https://localhost:8080/"
        },
        "id": "I5yV6JWU9_rr",
        "outputId": "40d2efa3-73f9-4fef-b2b5-c2a7fbb468fc"
      },
      "execution_count": null,
      "outputs": [
        {
          "output_type": "stream",
          "name": "stdout",
          "text": [
            "10\n",
            "50\n",
            "40\n",
            "[20, 30, 40]\n",
            "[10, 20, 30]\n",
            "[30, 40, 50]\n"
          ]
        }
      ]
    },
    {
      "cell_type": "code",
      "source": [
        "arr = [1,2,3,4,5]\n",
        "length=len(arr)\n",
        "def safe_get(arr,index):\n",
        "  if 0<=index<=len(arr):\n",
        "    return arr[i]\n",
        "  else:\n",
        "    return None # or custom exception"
      ],
      "metadata": {
        "id": "EnlHILwf-ZyZ"
      },
      "execution_count": null,
      "outputs": []
    },
    {
      "cell_type": "code",
      "source": [
        "arr = [42, 7, 89, 15, 103, 28, 91]\n",
        "\n",
        "def maxElement(arr):\n",
        "  max=arr[0]\n",
        "  for i in range(1,len(arr),1): # or for i in arr[1:]:\n",
        "    if max<=arr[i]:\n",
        "      max=arr[i]\n",
        "  return max\n",
        "print(max(arr))"
      ],
      "metadata": {
        "colab": {
          "base_uri": "https://localhost:8080/"
        },
        "id": "7P0WBPO6MSJ0",
        "outputId": "8b11f334-b51e-451c-97cf-888f2f364e64"
      },
      "execution_count": null,
      "outputs": [
        {
          "output_type": "stream",
          "name": "stdout",
          "text": [
            "103\n"
          ]
        }
      ]
    },
    {
      "cell_type": "code",
      "source": [
        "def reverse_array(arr):\n",
        "  left = 0\n",
        "  right = len(arr)-1\n",
        "  while left < right:\n",
        "    arr[left],arr[right] = arr[right],arr[left]\n",
        "    left+=1\n",
        "    right-=1\n",
        "  return arr\n",
        "arr = [42, 7, 89, 15, 103, 28, 91]\n",
        "print(reverse_array(arr))"
      ],
      "metadata": {
        "colab": {
          "base_uri": "https://localhost:8080/"
        },
        "id": "UqmVjPzPNPi7",
        "outputId": "5962446a-cdbb-48ee-a72c-7e282d10556b"
      },
      "execution_count": null,
      "outputs": [
        {
          "output_type": "stream",
          "name": "stdout",
          "text": [
            "[91, 28, 103, 15, 89, 7, 42]\n"
          ]
        }
      ]
    },
    {
      "cell_type": "code",
      "source": [
        "#Linear Search\n",
        "def linear_search(arr,target):\n",
        "  for i in range(len(arr)):\n",
        "    if arr[i] == target :\n",
        "      return i\n",
        "  return -1\n",
        "arr = [91, 28, 103, 15, 89, 7, 42]\n",
        "print(linear_search(arr,103))"
      ],
      "metadata": {
        "id": "ZpJ8j5g0QIsc",
        "outputId": "2ed018ce-12b1-43b8-db9d-2b14d7ddd1ce",
        "colab": {
          "base_uri": "https://localhost:8080/"
        }
      },
      "execution_count": null,
      "outputs": [
        {
          "output_type": "stream",
          "name": "stdout",
          "text": [
            "2\n"
          ]
        }
      ]
    },
    {
      "cell_type": "code",
      "source": [
        "#Finding all occurrences\n",
        "def find_occurrence(arr,target):\n",
        "  index_list=[]\n",
        "  for i in range(len(arr)):\n",
        "    if arr[i] == target:\n",
        "      index_list.append(i)\n",
        "  return index_list\n",
        "arr = [91, 28, 103, 15,77,7,7, 89, 7, 42]\n",
        "print(find_occurrence(arr,7))"
      ],
      "metadata": {
        "id": "J4__eQCJVlzu",
        "outputId": "7da07103-908a-4210-f3e0-34cb5965d208",
        "colab": {
          "base_uri": "https://localhost:8080/"
        }
      },
      "execution_count": null,
      "outputs": [
        {
          "output_type": "stream",
          "name": "stdout",
          "text": [
            "[5, 6, 8]\n"
          ]
        }
      ]
    },
    {
      "cell_type": "code",
      "source": [
        "#Inserting elements dynamically into arrays\n",
        "arr=[1,2,3,4,5]\n",
        "\n",
        "#1.Using append to insert at end\n",
        "arr.append(7)\n",
        "print(arr)\n",
        "\n",
        "#2.Using insert to insert at index 5\n",
        "arr.insert(5,6)  # array.insert(index,elements)\n",
        "print(arr)\n",
        "\n",
        "\n",
        "\n",
        "\n",
        "\n",
        "\n"
      ],
      "metadata": {
        "colab": {
          "base_uri": "https://localhost:8080/"
        },
        "id": "0tB0a8w-2Flv",
        "outputId": "8e61e66d-2c0c-4b56-f3e0-b1ee5abda32c"
      },
      "execution_count": 11,
      "outputs": [
        {
          "output_type": "stream",
          "name": "stdout",
          "text": [
            "[1, 2, 3, 4, 5, 7]\n",
            "[1, 2, 3, 4, 5, 6, 7]\n"
          ]
        }
      ]
    },
    {
      "cell_type": "code",
      "source": [
        "#inserting using manual logic at beg\n",
        "def insertAtBeginning(arr,element):\n",
        "  arr.append(None)\n",
        "  for i in range(len(arr)-1,0,-1):\n",
        "    arr[i]=arr[i-1]\n",
        "  arr[0]=element\n",
        "  return arr\n",
        "arr=[1,2,3,4,5]\n",
        "insertAtBeginning(arr,0)\n",
        "print(arr)"
      ],
      "metadata": {
        "colab": {
          "base_uri": "https://localhost:8080/"
        },
        "id": "zJFqEGoJ32z6",
        "outputId": "bd6bfa79-8347-4272-d797-308d39a03ca7"
      },
      "execution_count": 12,
      "outputs": [
        {
          "output_type": "stream",
          "name": "stdout",
          "text": [
            "[0, 1, 2, 3, 4, 5]\n"
          ]
        }
      ]
    },
    {
      "cell_type": "code",
      "source": [
        "#inserting using manual logic at specific location\n",
        "def insertAtIndex(arr,index,element):\n",
        "  arr.append(None)\n",
        "  if index<0 or index>len(arr):\n",
        "    raise IndexError(\"Array index out of boinds\")\n",
        "  for i in range(len(arr)-1,index,-1):\n",
        "    arr[i]=arr[i-1]\n",
        "  arr[index]=element\n",
        "  return arr\n",
        "arr=[1,2,3,5,6,7]\n",
        "insertAtIndex(arr,3,4)\n",
        "print(arr)\n",
        "\n"
      ],
      "metadata": {
        "colab": {
          "base_uri": "https://localhost:8080/"
        },
        "id": "P1iOsGwG5O_X",
        "outputId": "b5787fe8-d84d-4a38-d966-fb03df7d2fa0"
      },
      "execution_count": 17,
      "outputs": [
        {
          "output_type": "stream",
          "name": "stdout",
          "text": [
            "[1, 2, 3, 4, 5, 6, 7]\n"
          ]
        }
      ]
    },
    {
      "cell_type": "code",
      "source": [
        "#Deleting elements dynamically in arrays\n",
        "arr=[1,2,3,4,5,6,7]\n",
        "last_element=arr.pop()\n",
        "print(f\"Last element:{last_element}\")\n",
        "first_element=arr.pop(0)\n",
        "print(arr)\n",
        "third_element=arr.pop(3)\n",
        "print(f\"Deleting from beg:{first_element}\\nDeleting at specific index:{third_element}\")"
      ],
      "metadata": {
        "id": "87fTI7sI7vel",
        "outputId": "009bff64-6aef-44c4-f876-d9f7430a5cdd",
        "colab": {
          "base_uri": "https://localhost:8080/"
        }
      },
      "execution_count": 23,
      "outputs": [
        {
          "output_type": "stream",
          "name": "stdout",
          "text": [
            "Last element:7\n",
            "[2, 3, 4, 5, 6]\n",
            "Deleting from beg:1\n",
            "Deleting at specific index:5\n"
          ]
        }
      ]
    },
    {
      "cell_type": "code",
      "source": [
        "#Deleting elements from manual logic\n",
        "arr=[1,2,3,4,5,6,7]\n",
        "def deleteAtIndex(arr,index):\n",
        "  for i in range(index,len(arr)-1,1):\n",
        "    arr[i]=arr[i+1]\n",
        "  arr.pop()\n",
        "  return arr\n",
        "arr=[1,2,3,4,5,6,7]\n",
        "deleteAtIndex(arr,4)\n",
        "print(arr)"
      ],
      "metadata": {
        "id": "8b_2IbM99vBu",
        "outputId": "2b9e1375-8084-4c5d-9d78-0b582d640d44",
        "colab": {
          "base_uri": "https://localhost:8080/"
        }
      },
      "execution_count": 26,
      "outputs": [
        {
          "output_type": "stream",
          "name": "stdout",
          "text": [
            "[1, 2, 3, 4, 6, 7]\n"
          ]
        }
      ]
    }
  ]
}