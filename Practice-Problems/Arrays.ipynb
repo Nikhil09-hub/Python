{
  "nbformat": 4,
  "nbformat_minor": 0,
  "metadata": {
    "colab": {
      "provenance": [],
      "authorship_tag": "ABX9TyN9tjNw45nmPTAbtge7pfnQ",
      "include_colab_link": true
    },
    "kernelspec": {
      "name": "python3",
      "display_name": "Python 3"
    },
    "language_info": {
      "name": "python"
    }
  },
  "cells": [
    {
      "cell_type": "markdown",
      "metadata": {
        "id": "view-in-github",
        "colab_type": "text"
      },
      "source": [
        "<a href=\"https://colab.research.google.com/github/Nikhil09-hub/Python/blob/main/Practice-Problems/Arrays.ipynb\" target=\"_parent\"><img src=\"https://colab.research.google.com/assets/colab-badge.svg\" alt=\"Open In Colab\"/></a>"
      ]
    },
    {
      "cell_type": "code",
      "execution_count": null,
      "metadata": {
        "colab": {
          "base_uri": "https://localhost:8080/"
        },
        "id": "-CA_PCmc44Kv",
        "outputId": "0fbd6de3-e1aa-47d9-950f-6a17e3a8a117"
      },
      "outputs": [
        {
          "output_type": "stream",
          "name": "stdout",
          "text": [
            "Index 0 : 10\n",
            "Index 1 : 20\n",
            "Index 2 : 30\n",
            "Index 3 : 40\n",
            "Index 4 : 50\n",
            "Element 1: 10\n",
            "Element 2: 20\n",
            "Element 3: 30\n",
            "Element 4: 40\n",
            "Element 5: 50\n",
            "Using Backward traversal\n",
            "Index 4 : 50\n",
            "Index 3 : 40\n",
            "Index 2 : 30\n",
            "Index 1 : 20\n",
            "Index 0 : 10\n",
            "50 40 30 20 10 \n",
            "10 30 50 "
          ]
        }
      ],
      "source": [
        "arr = [10,20,30,40,50]  # Array initialization\n",
        "for i in range(len(arr)):\n",
        "  print(f\"Index {i} : {arr[i]}\")\n",
        "\n",
        "  #using enumerate\n",
        "for i,element in enumerate(arr):\n",
        "  print(f\"Element {i+1}: {element}\")\n",
        "\n",
        "#Using Backward traversal\n",
        "print(\"Using Backward traversal\")\n",
        "for i in range(len(arr)-1,-1,-1):\n",
        "  print(f\"Index {i} : {arr[i]}\")\n",
        "\n",
        "#Reverse using reversed\n",
        "for element in reversed(arr):\n",
        "  print(element,end=\" \")\n",
        "print()\n",
        "# Step traversal (every 2nd element)\n",
        "for i in range(0, len(arr), 2):\n",
        "    print(arr[i],end=\" \")"
      ]
    },
    {
      "cell_type": "code",
      "source": [
        "# Indexing examples\n",
        "arr = [10, 20, 30, 40, 50]\n",
        "print(arr[0])    #first element\n",
        "print(arr[-1])   #last element\n",
        "print(arr[-2])   #second last element\n",
        "\n",
        "# Slicing\n",
        "print(arr[1:4])  #elements from index 1 to 3\n",
        "print(arr[:3])   #first 3 elements\n",
        "print(arr[2:])   #from index 2 to end"
      ],
      "metadata": {
        "colab": {
          "base_uri": "https://localhost:8080/"
        },
        "id": "I5yV6JWU9_rr",
        "outputId": "40d2efa3-73f9-4fef-b2b5-c2a7fbb468fc"
      },
      "execution_count": null,
      "outputs": [
        {
          "output_type": "stream",
          "name": "stdout",
          "text": [
            "10\n",
            "50\n",
            "40\n",
            "[20, 30, 40]\n",
            "[10, 20, 30]\n",
            "[30, 40, 50]\n"
          ]
        }
      ]
    },
    {
      "cell_type": "code",
      "source": [
        "arr = [1,2,3,4,5]\n",
        "length=len(arr)\n",
        "def safe_get(arr,index):\n",
        "  if 0<=index<=len(arr):\n",
        "    return arr[i]\n",
        "  else:\n",
        "    return None # or custom exception"
      ],
      "metadata": {
        "id": "EnlHILwf-ZyZ"
      },
      "execution_count": null,
      "outputs": []
    },
    {
      "cell_type": "code",
      "source": [
        "arr = [42, 7, 89, 15, 103, 28, 91]\n",
        "\n",
        "def maxElement(arr):\n",
        "  max=arr[0]\n",
        "  for i in range(1,len(arr),1): # or for i in arr[1:]:\n",
        "    if max<=arr[i]:\n",
        "      max=arr[i]\n",
        "  return max\n",
        "print(max(arr))"
      ],
      "metadata": {
        "colab": {
          "base_uri": "https://localhost:8080/"
        },
        "id": "7P0WBPO6MSJ0",
        "outputId": "8b11f334-b51e-451c-97cf-888f2f364e64"
      },
      "execution_count": null,
      "outputs": [
        {
          "output_type": "stream",
          "name": "stdout",
          "text": [
            "103\n"
          ]
        }
      ]
    },
    {
      "cell_type": "code",
      "source": [
        "def reverse_array(arr):\n",
        "  left = 0\n",
        "  right = len(arr)-1\n",
        "  while left < right:\n",
        "    arr[left],arr[right] = arr[right],arr[left]\n",
        "    left+=1\n",
        "    right-=1\n",
        "  return arr\n",
        "arr = [42, 7, 89, 15, 103, 28, 91]\n",
        "print(reverse_array(arr))"
      ],
      "metadata": {
        "colab": {
          "base_uri": "https://localhost:8080/"
        },
        "id": "UqmVjPzPNPi7",
        "outputId": "5962446a-cdbb-48ee-a72c-7e282d10556b"
      },
      "execution_count": null,
      "outputs": [
        {
          "output_type": "stream",
          "name": "stdout",
          "text": [
            "[91, 28, 103, 15, 89, 7, 42]\n"
          ]
        }
      ]
    },
    {
      "cell_type": "code",
      "source": [
        "#Linear Search\n",
        "def linear_search(arr,target):\n",
        "  for i in range(len(arr)):\n",
        "    if arr[i] == target :\n",
        "      return i\n",
        "  return -1\n",
        "arr = [91, 28, 103, 15, 89, 7, 42]\n",
        "print(linear_search(arr,103))"
      ],
      "metadata": {
        "id": "ZpJ8j5g0QIsc",
        "outputId": "2ed018ce-12b1-43b8-db9d-2b14d7ddd1ce",
        "colab": {
          "base_uri": "https://localhost:8080/"
        }
      },
      "execution_count": 1,
      "outputs": [
        {
          "output_type": "stream",
          "name": "stdout",
          "text": [
            "2\n"
          ]
        }
      ]
    },
    {
      "cell_type": "code",
      "source": [
        "#Finding all occurrences\n",
        "def find_occurrence(arr,target):\n",
        "  index_list=[]\n",
        "  for i in range(len(arr)):\n",
        "    if arr[i] == target:\n",
        "      index_list.append(i)\n",
        "  return index_list\n",
        "arr = [91, 28, 103, 15,77,7,7, 89, 7, 42]\n",
        "print(find_occurrence(arr,7))"
      ],
      "metadata": {
        "id": "J4__eQCJVlzu",
        "outputId": "7da07103-908a-4210-f3e0-34cb5965d208",
        "colab": {
          "base_uri": "https://localhost:8080/"
        }
      },
      "execution_count": 2,
      "outputs": [
        {
          "output_type": "stream",
          "name": "stdout",
          "text": [
            "[5, 6, 8]\n"
          ]
        }
      ]
    }
  ]
}