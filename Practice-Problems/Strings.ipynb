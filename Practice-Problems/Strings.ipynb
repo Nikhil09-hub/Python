{
  "nbformat": 4,
  "nbformat_minor": 0,
  "metadata": {
    "colab": {
      "provenance": [],
      "authorship_tag": "ABX9TyNkDoBrchiNIAt1lrlNLNon",
      "include_colab_link": true
    },
    "kernelspec": {
      "name": "python3",
      "display_name": "Python 3"
    },
    "language_info": {
      "name": "python"
    }
  },
  "cells": [
    {
      "cell_type": "markdown",
      "metadata": {
        "id": "view-in-github",
        "colab_type": "text"
      },
      "source": [
        "<a href=\"https://colab.research.google.com/github/Nikhil09-hub/Python/blob/main/Practice-Problems/Strings.ipynb\" target=\"_parent\"><img src=\"https://colab.research.google.com/assets/colab-badge.svg\" alt=\"Open In Colab\"/></a>"
      ]
    },
    {
      "cell_type": "code",
      "execution_count": null,
      "metadata": {
        "colab": {
          "base_uri": "https://localhost:8080/"
        },
        "id": "2Y3-xa1gtuI-",
        "outputId": "e84367c9-c567-4f62-eeea-0bf34f3bb621"
      },
      "outputs": [
        {
          "output_type": "stream",
          "name": "stdout",
          "text": [
            "This is a single quote string\n",
            "This is a double quote string\n",
            "First line\n",
            "Seond line\n",
            "Third line\n",
            "\n"
          ]
        }
      ],
      "source": [
        "#String creation\n",
        "single_quote='This is a single quote string'\n",
        "double_quote=\"This is a double quote string\"\n",
        "Multi_line=\"\"\"First line\n",
        "Seond line\n",
        "Third line\n",
        "\"\"\"\n",
        "print(single_quote)\n",
        "print(double_quote)\n",
        "print(Multi_line)"
      ]
    },
    {
      "cell_type": "code",
      "source": [
        "#Printing \" \" in a string use '' or \"\"\" or use \\\"Your message\\\"\n",
        "print(\"\\\"STRING WITH IN DOUBLE QUOTES\\\"\")"
      ],
      "metadata": {
        "colab": {
          "base_uri": "https://localhost:8080/"
        },
        "id": "rycsdRmgwYJF",
        "outputId": "bee1853a-48d0-4274-cbe0-3143a1a8d4c5"
      },
      "execution_count": null,
      "outputs": [
        {
          "output_type": "stream",
          "name": "stdout",
          "text": [
            "\"STRING WITH IN DOUBLE QUOTES\"\n"
          ]
        }
      ]
    },
    {
      "cell_type": "code",
      "source": [
        "#String indexing and slicing\n",
        "text=\"Python Programming\"\n",
        "print(f\"Original String: '{text}'\")\n",
        "print(f\"Lenght of string:'{len(text)}'\")\n",
        "print(f\"First character:'{text[0]}'\")\n",
        "print(f\"Last character:'{text[-1]}'\")\n",
        "print(f\"Charcters from 2 to 8:'{text[1:9]}'\")\n",
        "print(f\"Character from 3 to end:'{' '.join(text[2:])}'\")      # ' '.join(text[]) is used to seperate each space\n",
        "print(f\"Every 2nd character:'{text[::2]}'\")\n",
        "print(f\"Reverse String: '{text[::-1]}'\")"
      ],
      "metadata": {
        "colab": {
          "base_uri": "https://localhost:8080/"
        },
        "id": "-iIVrTLcwy9o",
        "outputId": "b8bbbeec-5e66-4c6f-aad2-e7b00b5c756b"
      },
      "execution_count": null,
      "outputs": [
        {
          "output_type": "stream",
          "name": "stdout",
          "text": [
            "Original String: 'Python Programming'\n",
            "Lenght of string:'18'\n",
            "First character:'P'\n",
            "Last character:'g'\n",
            "Charcters from 2 to 8:'ython Pr'\n",
            "Character from 3 to end:'t h o n   P r o g r a m m i n g'\n",
            "Every 2nd character:'Pto rgamn'\n",
            "Reverse String: 'gnimmargorP nohtyP'\n"
          ]
        }
      ]
    },
    {
      "cell_type": "code",
      "source": [
        "#Case-Manipulation\n",
        "name=\"anand Swamy\"\n",
        "print(f\"Original: {name}\")\n",
        "print(f\"Upper: {name.upper()}\")\n",
        "print(f\"Lower: {name.lower()}\")\n",
        "print(f\"Title Case: {name.title()}\")\n",
        "print(f\"Capitalize : {name.capitalize()}\")\n",
        "print(f\"Swap Case: {name.swapcase()}\")\n"
      ],
      "metadata": {
        "id": "tx7kO9mbypjY",
        "outputId": "7120da78-f802-4d7d-c044-e47a6cfcd63a",
        "colab": {
          "base_uri": "https://localhost:8080/"
        }
      },
      "execution_count": null,
      "outputs": [
        {
          "output_type": "stream",
          "name": "stdout",
          "text": [
            "Original: anand Swamy\n",
            "Upper: ANAND SWAMY\n",
            "Lower: anand swamy\n",
            "Title Case: Anand Swamy\n",
            "Capitalize : Anand swamy\n",
            "Swap Case: ANAND sWAMY\n"
          ]
        }
      ]
    },
    {
      "cell_type": "code",
      "source": [
        "#String Methods to check content\n",
        "sample='Python123'\n",
        "print(f\"Is String:{sample}\")\n",
        "print(f\"Is Alphabetical: {sample.isalpha()}\")\n",
        "print(f\"Is Alphanumeric: {sample.isalnum()}\")\n",
        "print(f\"Is lowercase: {sample.islower()}\")\n",
        "print(f\"Is uppercase: {sample.isupper()}\")\n",
        "print(f\"Is title case: {sample.istitle()}\")\n",
        "\n"
      ],
      "metadata": {
        "id": "t5IwiRzLgpTe",
        "outputId": "231f36b8-167b-4dcc-e002-15bbb6402947",
        "colab": {
          "base_uri": "https://localhost:8080/"
        }
      },
      "execution_count": null,
      "outputs": [
        {
          "output_type": "stream",
          "name": "stdout",
          "text": [
            "Is String:Python123\n",
            "Is Alphabetical: False\n",
            "Is Alphanumeric: True\n",
            "Is lowercase: False\n",
            "Is uppercase: False\n",
            "Is title case: True\n"
          ]
        }
      ]
    },
    {
      "cell_type": "code",
      "source": [
        "text='hello'\n",
        "print(f\"{text} starts with he: {text.startswith('he')}\")\n",
        "print(f\"{text} ends with lo:{text.endswith('lo')}\")"
      ],
      "metadata": {
        "id": "eUC2DsC1pFbC",
        "outputId": "f42f00a6-b79f-4921-90ac-67629a3271d3",
        "colab": {
          "base_uri": "https://localhost:8080/"
        }
      },
      "execution_count": null,
      "outputs": [
        {
          "output_type": "stream",
          "name": "stdout",
          "text": [
            "hello starts with he: True\n",
            "hello ends with lo:True\n"
          ]
        }
      ]
    },
    {
      "cell_type": "code",
      "source": [
        "#String methods--Finding and replacing\n",
        "sentence='Python is awesome.Python is powerful'\n",
        "print(f\"Original Sentence: {sentence}\")\n",
        "print(f\"Finding 'Python': {sentence.find('Python')}\")\n",
        "print(f\"Finding 'awesome': {sentence.find('awesome')}\")\n",
        "print(f\"Find 'Java: {sentence.find('Java')}\")\n",
        "print(f\"Count 'Python': {sentence.count('Python')}\")\n",
        "print(f\"Replace Python with Java: {sentence.replace('Python','Java')}\")\n",
        "print(f\"Replacing first Python with Java: {sentence.replace('Python','Java',1)}\")"
      ],
      "metadata": {
        "id": "1oJliSaY4Ucw",
        "outputId": "55973c65-d211-49a1-ca86-c14e22a76f9c",
        "colab": {
          "base_uri": "https://localhost:8080/"
        }
      },
      "execution_count": null,
      "outputs": [
        {
          "output_type": "stream",
          "name": "stdout",
          "text": [
            "Original Sentence: Python is awesome.Python is powerful\n",
            "Finding 'Python': 0\n",
            "Finding 'awesome': 10\n",
            "Find 'Java: -1\n",
            "Count 'Python': 2\n",
            "Replace Python with Java: Java is awesome.Java is powerful\n",
            "Replacing first Python with Java: Java is awesome.Python is powerful\n"
          ]
        }
      ]
    },
    {
      "cell_type": "code",
      "source": [
        "#Sring splitting and joining\n",
        "data=\"apple,kiwi,orange,grape\"\n",
        "words=\"  hello  word   python  \"\n",
        "print(\"Split and Join methods: \")\n",
        "print(f\"CSV DATA:{data}\")\n",
        "fruits=data.split(',')\n",
        "\n",
        "#Spliting\n",
        "\n",
        "print(f'Split by comma: {fruits}')\n",
        "print(type(fruits))\n",
        "\n",
        "clean_words=words.split(' ')\n",
        "\n",
        "print(f\"Join with ' | ': '{' | '.join(fruits)}'\")\n",
        "\n",
        "print(f\"Words split by blank spaces: {' '.join(clean_words)}\")\n",
        "\n"
      ],
      "metadata": {
        "id": "1CsmV5hatcEV",
        "colab": {
          "base_uri": "https://localhost:8080/"
        },
        "outputId": "5694a660-2d86-4818-e535-4b1388f90ccf"
      },
      "execution_count": 23,
      "outputs": [
        {
          "output_type": "stream",
          "name": "stdout",
          "text": [
            "Split and Join methods: \n",
            "CSV DATA:apple,kiwi,orange,grape\n",
            "Split by comma: ['apple', 'kiwi', 'orange', 'grape']\n",
            "<class 'list'>\n",
            "Words split by blank spaces: ['', '', 'hello', '', 'word', '', '', 'python', '', '']\n",
            "Join with ' | ': 'apple | kiwi | orange | grape'\n",
            "Words split by blank spaces:   hello  word   python  \n"
          ]
        }
      ]
    },
    {
      "cell_type": "code",
      "source": [
        "#Strings-Whitespace Handling\n",
        "messy_string=\"    Hello World     \"\n",
        "print(f\"Original string:{messy_string}\")\n",
        "print(f\"Strip:{messy_string.strip()}\")\n",
        "print(f\"Left strip:{messy_string.lstrip()}\")\n",
        "print(f\"Right strip:{messy_string.rstrip()}\")\n",
        "\n"
      ],
      "metadata": {
        "colab": {
          "base_uri": "https://localhost:8080/"
        },
        "id": "hLnKJNyXlpPy",
        "outputId": "b79ff1c5-29e4-4542-96ed-94e190eff324"
      },
      "execution_count": 25,
      "outputs": [
        {
          "output_type": "stream",
          "name": "stdout",
          "text": [
            "Original string:    Hello World     \n",
            "Strip:Hello World\n",
            "Left strip:Hello World     \n",
            "Right strip:    Hello World\n"
          ]
        }
      ]
    },
    {
      "cell_type": "code",
      "source": [
        "#String formatting\n",
        "\n",
        "name=\"Anand\"\n",
        "age=18\n",
        "score=99.923424\n",
        "\n",
        "\n",
        "#Method-1 %format\n",
        "print(\"His name is %a,He is %d years old.His score is %.2f \" %(name,age,score))\n",
        "\n",
        "#Method-2 .format() method\n",
        "print(\"His name is {},He is {} years old.His score is {:.3f} \" .format(name,age,score))\n",
        "print(\"His name is \")\n"
      ],
      "metadata": {
        "colab": {
          "base_uri": "https://localhost:8080/"
        },
        "id": "Ucd8onF6xL7N",
        "outputId": "970b650d-31d8-435a-f42d-5f658e82e769"
      },
      "execution_count": 33,
      "outputs": [
        {
          "output_type": "stream",
          "name": "stdout",
          "text": [
            "His name is 'Anand',He is 18 years old.His score is 99.92 \n",
            "His name is Anand,He is 18 years old.His score is 99.923 \n",
            "His name is \n"
          ]
        }
      ]
    }
  ]
}