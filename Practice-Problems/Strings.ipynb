{
  "nbformat": 4,
  "nbformat_minor": 0,
  "metadata": {
    "colab": {
      "provenance": [],
      "authorship_tag": "ABX9TyOjOUjgoJYTxxvzL/nb9bb9",
      "include_colab_link": true
    },
    "kernelspec": {
      "name": "python3",
      "display_name": "Python 3"
    },
    "language_info": {
      "name": "python"
    }
  },
  "cells": [
    {
      "cell_type": "markdown",
      "metadata": {
        "id": "view-in-github",
        "colab_type": "text"
      },
      "source": [
        "<a href=\"https://colab.research.google.com/github/Nikhil09-hub/Python/blob/main/Practice-Problems/Strings.ipynb\" target=\"_parent\"><img src=\"https://colab.research.google.com/assets/colab-badge.svg\" alt=\"Open In Colab\"/></a>"
      ]
    },
    {
      "cell_type": "code",
      "execution_count": null,
      "metadata": {
        "colab": {
          "base_uri": "https://localhost:8080/"
        },
        "id": "2Y3-xa1gtuI-",
        "outputId": "e84367c9-c567-4f62-eeea-0bf34f3bb621"
      },
      "outputs": [
        {
          "output_type": "stream",
          "name": "stdout",
          "text": [
            "This is a single quote string\n",
            "This is a double quote string\n",
            "First line\n",
            "Seond line\n",
            "Third line\n",
            "\n"
          ]
        }
      ],
      "source": [
        "#String creation\n",
        "single_quote='This is a single quote string'\n",
        "double_quote=\"This is a double quote string\"\n",
        "Multi_line=\"\"\"First line\n",
        "Seond line\n",
        "Third line\n",
        "\"\"\"\n",
        "print(single_quote)\n",
        "print(double_quote)\n",
        "print(Multi_line)"
      ]
    },
    {
      "cell_type": "code",
      "source": [
        "#Printing \" \" in a string use '' or \"\"\" or use \\\"Your message\\\"\n",
        "print(\"\\\"STRING WITH IN DOUBLE QUOTES\\\"\")"
      ],
      "metadata": {
        "colab": {
          "base_uri": "https://localhost:8080/"
        },
        "id": "rycsdRmgwYJF",
        "outputId": "bee1853a-48d0-4274-cbe0-3143a1a8d4c5"
      },
      "execution_count": null,
      "outputs": [
        {
          "output_type": "stream",
          "name": "stdout",
          "text": [
            "\"STRING WITH IN DOUBLE QUOTES\"\n"
          ]
        }
      ]
    },
    {
      "cell_type": "code",
      "source": [
        "#String indexing and slicing\n",
        "text=\"Python Programming\"\n",
        "print(f\"Original String: '{text}'\")\n",
        "print(f\"Lenght of string:'{len(text)}'\")\n",
        "print(f\"First character:'{text[0]}'\")\n",
        "print(f\"Last character:'{text[-1]}'\")\n",
        "print(f\"Charcters from 2 to 8:'{text[1:9]}'\")\n",
        "print(f\"Character from 3 to end:'{' '.join(text[2:])}'\")      # ' '.join(text[]) is used to seperate each space\n",
        "print(f\"Every 2nd character:'{text[::2]}'\")\n",
        "print(f\"Reverse String: '{text[::-1]}'\")"
      ],
      "metadata": {
        "colab": {
          "base_uri": "https://localhost:8080/"
        },
        "id": "-iIVrTLcwy9o",
        "outputId": "b8bbbeec-5e66-4c6f-aad2-e7b00b5c756b"
      },
      "execution_count": null,
      "outputs": [
        {
          "output_type": "stream",
          "name": "stdout",
          "text": [
            "Original String: 'Python Programming'\n",
            "Lenght of string:'18'\n",
            "First character:'P'\n",
            "Last character:'g'\n",
            "Charcters from 2 to 8:'ython Pr'\n",
            "Character from 3 to end:'t h o n   P r o g r a m m i n g'\n",
            "Every 2nd character:'Pto rgamn'\n",
            "Reverse String: 'gnimmargorP nohtyP'\n"
          ]
        }
      ]
    },
    {
      "cell_type": "code",
      "source": [
        "#Case-Manipulation\n",
        "name=\"anand Swamy\"\n",
        "print(f\"Original: {name}\")\n",
        "print(f\"Upper: {name.upper()}\")\n",
        "print(f\"Lower: {name.lower()}\")\n",
        "print(f\"Title Case: {name.title()}\")\n",
        "print(f\"Capitalize : {name.capitalize()}\")\n",
        "print(f\"Swap Case: {name.swapcase()}\")\n"
      ],
      "metadata": {
        "id": "tx7kO9mbypjY",
        "outputId": "7120da78-f802-4d7d-c044-e47a6cfcd63a",
        "colab": {
          "base_uri": "https://localhost:8080/"
        }
      },
      "execution_count": 5,
      "outputs": [
        {
          "output_type": "stream",
          "name": "stdout",
          "text": [
            "Original: anand Swamy\n",
            "Upper: ANAND SWAMY\n",
            "Lower: anand swamy\n",
            "Title Case: Anand Swamy\n",
            "Capitalize : Anand swamy\n",
            "Swap Case: ANAND sWAMY\n"
          ]
        }
      ]
    }
  ]
}