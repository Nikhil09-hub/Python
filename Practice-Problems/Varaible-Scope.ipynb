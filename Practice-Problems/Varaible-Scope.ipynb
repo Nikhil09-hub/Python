{
  "nbformat": 4,
  "nbformat_minor": 0,
  "metadata": {
    "colab": {
      "provenance": [],
      "authorship_tag": "ABX9TyNSpk2F3XNjbh0PV374mwkK",
      "include_colab_link": true
    },
    "kernelspec": {
      "name": "python3",
      "display_name": "Python 3"
    },
    "language_info": {
      "name": "python"
    }
  },
  "cells": [
    {
      "cell_type": "markdown",
      "metadata": {
        "id": "view-in-github",
        "colab_type": "text"
      },
      "source": [
        "<a href=\"https://colab.research.google.com/github/Nikhil09-hub/Python/blob/main/Practice-Problems/Varaible-Scope.ipynb\" target=\"_parent\"><img src=\"https://colab.research.google.com/assets/colab-badge.svg\" alt=\"Open In Colab\"/></a>"
      ]
    },
    {
      "cell_type": "code",
      "execution_count": 3,
      "metadata": {
        "id": "teC5Kw8hGJEH",
        "outputId": "aaca517d-846f-4867-a265-5adf5386a0f7",
        "colab": {
          "base_uri": "https://localhost:8080/",
          "height": 228
        }
      },
      "outputs": [
        {
          "output_type": "stream",
          "name": "stdout",
          "text": [
            "A local variable\n",
            "A global variable\n",
            "A global variable\n"
          ]
        },
        {
          "output_type": "error",
          "ename": "NameError",
          "evalue": "name 'my_local' is not defined",
          "traceback": [
            "\u001b[0;31m---------------------------------------------------------------------------\u001b[0m",
            "\u001b[0;31mNameError\u001b[0m                                 Traceback (most recent call last)",
            "\u001b[0;32m/tmp/ipython-input-4206688965.py\u001b[0m in \u001b[0;36m<cell line: 0>\u001b[0;34m()\u001b[0m\n\u001b[1;32m     10\u001b[0m \u001b[0;34m\u001b[0m\u001b[0m\n\u001b[1;32m     11\u001b[0m \u001b[0mprint\u001b[0m\u001b[0;34m(\u001b[0m\u001b[0mmy_global\u001b[0m\u001b[0;34m)\u001b[0m\u001b[0;34m\u001b[0m\u001b[0;34m\u001b[0m\u001b[0m\n\u001b[0;32m---> 12\u001b[0;31m \u001b[0mprint\u001b[0m\u001b[0;34m(\u001b[0m\u001b[0mmy_local\u001b[0m\u001b[0;34m)\u001b[0m\u001b[0;34m\u001b[0m\u001b[0;34m\u001b[0m\u001b[0m\n\u001b[0m",
            "\u001b[0;31mNameError\u001b[0m: name 'my_local' is not defined"
          ]
        }
      ],
      "source": [
        "#Global variable-Accessed Everywhere\n",
        "my_global=\"A global variable\"\n",
        "\n",
        "def my_function():\n",
        "  my_local=\"A local variable\"\n",
        "  print(my_local)\n",
        "  print(my_global)\n",
        "\n",
        "my_function()\n",
        "\n",
        "print(my_global)\n",
        "print(my_local)"
      ]
    },
    {
      "cell_type": "code",
      "source": [
        "#Changing global variable in a fun\n",
        "\n",
        "count=0\n",
        "def myFun():\n",
        "  global count\n",
        "  count=10\n",
        "print(count)\n",
        "myFun()\n",
        "print(count)\n",
        ""
      ],
      "metadata": {
        "id": "8t4AYEG3H-_q",
        "outputId": "d1faddb9-a274-4a67-ca5a-7b07b104f752",
        "colab": {
          "base_uri": "https://localhost:8080/"
        }
      },
      "execution_count": 4,
      "outputs": [
        {
          "output_type": "stream",
          "name": "stdout",
          "text": [
            "0\n",
            "10\n"
          ]
        }
      ]
    },
    {
      "cell_type": "code",
      "source": [],
      "metadata": {
        "id": "7u5ePlKmJOOg"
      },
      "execution_count": null,
      "outputs": []
    }
  ]
}