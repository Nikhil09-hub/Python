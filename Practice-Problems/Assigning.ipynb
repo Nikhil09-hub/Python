{
  "nbformat": 4,
  "nbformat_minor": 0,
  "metadata": {
    "colab": {
      "provenance": [],
      "authorship_tag": "ABX9TyP4R2e2DNOD7XHVOy67ODVP",
      "include_colab_link": true
    },
    "kernelspec": {
      "name": "python3",
      "display_name": "Python 3"
    },
    "language_info": {
      "name": "python"
    }
  },
  "cells": [
    {
      "cell_type": "markdown",
      "metadata": {
        "id": "view-in-github",
        "colab_type": "text"
      },
      "source": [
        "<a href=\"https://colab.research.google.com/github/Nikhil09-hub/Python/blob/main/Practice-Problems/Assigning.ipynb\" target=\"_parent\"><img src=\"https://colab.research.google.com/assets/colab-badge.svg\" alt=\"Open In Colab\"/></a>"
      ]
    },
    {
      "cell_type": "code",
      "execution_count": null,
      "metadata": {
        "colab": {
          "base_uri": "https://localhost:8080/"
        },
        "id": "g3e9tzfsLBG0",
        "outputId": "ad2c8466-dfaf-43e7-d3e5-4fcea522be1c"
      },
      "outputs": [
        {
          "output_type": "stream",
          "name": "stdout",
          "text": [
            "x = 10 y = 20 z = 30\n"
          ]
        }
      ],
      "source": [
        "#Multiple value assignment\n",
        "x, y, z = 10, 20, 30\n",
        "print(\"x =\", x, \"y =\", y, \"z =\", z)"
      ]
    },
    {
      "cell_type": "code",
      "source": [
        "#Same value assignment\n",
        "a=b=0\n",
        "print(\"a =\",a,\"b =\",b)"
      ],
      "metadata": {
        "colab": {
          "base_uri": "https://localhost:8080/"
        },
        "id": "4067L1D_NN0e",
        "outputId": "daa62e59-0421-4948-d77e-8ee344d4a582"
      },
      "execution_count": null,
      "outputs": [
        {
          "output_type": "stream",
          "name": "stdout",
          "text": [
            "a = 0 b = 0\n"
          ]
        }
      ]
    },
    {
      "cell_type": "code",
      "source": [
        "#Swapping variables\n",
        "a,b=10,20\n",
        "a,b=b,a\n",
        "print(\"a =\",a,\"b =\",b)"
      ],
      "metadata": {
        "colab": {
          "base_uri": "https://localhost:8080/"
        },
        "id": "K45Yc5i1M2mn",
        "outputId": "74136ef7-a2b4-4af8-8163-7a849fda7f28"
      },
      "execution_count": null,
      "outputs": [
        {
          "output_type": "stream",
          "name": "stdout",
          "text": [
            "a = 20 b = 10\n"
          ]
        }
      ]
    },
    {
      "cell_type": "code",
      "source": [
        "#Assigning elements into a list\n",
        "a=list()         #you can use a=[] also for declaring a list\n",
        "for i in range(5):\n",
        "  a.append(input())\n",
        "print(a)"
      ],
      "metadata": {
        "id": "Srm56qE9mg7D",
        "outputId": "362671fd-4b0a-41e9-f41d-908c9b188e08",
        "colab": {
          "base_uri": "https://localhost:8080/"
        }
      },
      "execution_count": 6,
      "outputs": [
        {
          "output_type": "stream",
          "name": "stdout",
          "text": [
            "54\n",
            "\"fsfsd\"\n",
            "sds\n",
            "sds\n",
            "dsds\n",
            "['54', '\"fsfsd\"', 'sds', 'sds', 'dsds']\n"
          ]
        }
      ]
    },
    {
      "cell_type": "code",
      "source": [
        "a=[32]*5\n",
        "print(a)"
      ],
      "metadata": {
        "id": "48S6Mlj0nwoD",
        "outputId": "21b31386-cd80-4c24-9895-eae196bf7464",
        "colab": {
          "base_uri": "https://localhost:8080/"
        }
      },
      "execution_count": 7,
      "outputs": [
        {
          "output_type": "stream",
          "name": "stdout",
          "text": [
            "[32, 32, 32, 32, 32]\n"
          ]
        }
      ]
    },
    {
      "cell_type": "code",
      "source": [
        "a=[None]*5\n",
        "print(type(a[1]))\n"
      ],
      "metadata": {
        "id": "Mv9AzSRpneBg",
        "outputId": "a2022229-c2fd-497a-abba-0ee93e13b2ae",
        "colab": {
          "base_uri": "https://localhost:8080/"
        }
      },
      "execution_count": 10,
      "outputs": [
        {
          "output_type": "stream",
          "name": "stdout",
          "text": [
            "<class 'NoneType'>\n"
          ]
        }
      ]
    },
    {
      "cell_type": "code",
      "source": [
        "a=[None]*5\n",
        "print(type(a[1]))\n",
        "for i in range(5):\n",
        "  a[i]=input(f\"Enter {i+1} element: \")\n",
        "print(a)"
      ],
      "metadata": {
        "id": "sjLXTnwWooH0",
        "outputId": "2caa2151-c002-4b72-f1e9-d97d0fde702c",
        "colab": {
          "base_uri": "https://localhost:8080/"
        }
      },
      "execution_count": 12,
      "outputs": [
        {
          "output_type": "stream",
          "name": "stdout",
          "text": [
            "Enter 1 element: 34\n",
            "Enter 2 element: 54\n",
            "Enter 3 element: \"fd\"\n",
            "Enter 4 element: fdfd\n",
            "Enter 5 element: trmkl\n",
            "['34', '54', '\"fd\"', 'fdfd', 'trmkl']\n"
          ]
        }
      ]
    },
    {
      "cell_type": "code",
      "source": [
        "data=[43,\"Hello\",{\"key\":\"value\"},True,None]\n",
        "for item in data:\n",
        "  print(\"Type of \",item,\"is\", type(item))\n"
      ],
      "metadata": {
        "id": "pkCJa18jsTMD",
        "outputId": "76d7c1f6-1734-4903-e262-65ec63c2a7d6",
        "colab": {
          "base_uri": "https://localhost:8080/"
        }
      },
      "execution_count": 15,
      "outputs": [
        {
          "output_type": "stream",
          "name": "stdout",
          "text": [
            "Type of  43 is <class 'int'>\n",
            "Type of  Hello is <class 'str'>\n",
            "Type of  {'key': 'value'} is <class 'dict'>\n",
            "Type of  True is <class 'bool'>\n",
            "Type of  None is <class 'NoneType'>\n"
          ]
        }
      ]
    }
  ]
}