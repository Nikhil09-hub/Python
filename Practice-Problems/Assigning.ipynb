{
  "nbformat": 4,
  "nbformat_minor": 0,
  "metadata": {
    "colab": {
      "provenance": [],
      "authorship_tag": "ABX9TyOBaeOYP0PbmSs87eXbnikr",
      "include_colab_link": true
    },
    "kernelspec": {
      "name": "python3",
      "display_name": "Python 3"
    },
    "language_info": {
      "name": "python"
    }
  },
  "cells": [
    {
      "cell_type": "markdown",
      "metadata": {
        "id": "view-in-github",
        "colab_type": "text"
      },
      "source": [
        "<a href=\"https://colab.research.google.com/github/Nikhil09-hub/Python/blob/main/Practice-Problems/Assigning.ipynb\" target=\"_parent\"><img src=\"https://colab.research.google.com/assets/colab-badge.svg\" alt=\"Open In Colab\"/></a>"
      ]
    },
    {
      "cell_type": "code",
      "execution_count": null,
      "metadata": {
        "colab": {
          "base_uri": "https://localhost:8080/"
        },
        "id": "g3e9tzfsLBG0",
        "outputId": "ad2c8466-dfaf-43e7-d3e5-4fcea522be1c"
      },
      "outputs": [
        {
          "output_type": "stream",
          "name": "stdout",
          "text": [
            "x = 10 y = 20 z = 30\n"
          ]
        }
      ],
      "source": [
        "#Multiple value assignment\n",
        "x, y, z = 10, 20, 30\n",
        "print(\"x =\", x, \"y =\", y, \"z =\", z)"
      ]
    },
    {
      "cell_type": "code",
      "source": [
        "#Same value assignment\n",
        "a=b=0\n",
        "print(\"a =\",a,\"b =\",b)"
      ],
      "metadata": {
        "colab": {
          "base_uri": "https://localhost:8080/"
        },
        "id": "4067L1D_NN0e",
        "outputId": "daa62e59-0421-4948-d77e-8ee344d4a582"
      },
      "execution_count": null,
      "outputs": [
        {
          "output_type": "stream",
          "name": "stdout",
          "text": [
            "a = 0 b = 0\n"
          ]
        }
      ]
    },
    {
      "cell_type": "code",
      "source": [
        "#Swapping variables\n",
        "a,b=10,20\n",
        "a,b=b,a\n",
        "print(\"a =\",a,\"b =\",b)"
      ],
      "metadata": {
        "colab": {
          "base_uri": "https://localhost:8080/"
        },
        "id": "K45Yc5i1M2mn",
        "outputId": "74136ef7-a2b4-4af8-8163-7a849fda7f28"
      },
      "execution_count": null,
      "outputs": [
        {
          "output_type": "stream",
          "name": "stdout",
          "text": [
            "a = 20 b = 10\n"
          ]
        }
      ]
    }
  ]
}