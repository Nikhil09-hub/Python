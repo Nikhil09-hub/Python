{
  "nbformat": 4,
  "nbformat_minor": 0,
  "metadata": {
    "colab": {
      "provenance": [],
      "authorship_tag": "ABX9TyPPpPHnaGHIQjJ9KwkX1dDz",
      "include_colab_link": true
    },
    "kernelspec": {
      "name": "python3",
      "display_name": "Python 3"
    },
    "language_info": {
      "name": "python"
    }
  },
  "cells": [
    {
      "cell_type": "markdown",
      "metadata": {
        "id": "view-in-github",
        "colab_type": "text"
      },
      "source": [
        "<a href=\"https://colab.research.google.com/github/Nikhil09-hub/Python/blob/main/Practice-Problems/Data_types.ipynb\" target=\"_parent\"><img src=\"https://colab.research.google.com/assets/colab-badge.svg\" alt=\"Open In Colab\"/></a>"
      ]
    },
    {
      "cell_type": "markdown",
      "source": [
        "Data types"
      ],
      "metadata": {
        "id": "1frN-Z2GI14Z"
      }
    },
    {
      "cell_type": "code",
      "execution_count": 2,
      "metadata": {
        "colab": {
          "base_uri": "https://localhost:8080/"
        },
        "id": "iQW4ZAW3HECk",
        "outputId": "2f7dc9f4-e992-4416-dd57-e17569903d32"
      },
      "outputs": [
        {
          "output_type": "stream",
          "name": "stdout",
          "text": [
            "<class 'int'>\n",
            "<class 'float'>\n",
            "<class 'complex'>\n",
            "<class 'str'>\n",
            "<class 'bool'>\n"
          ]
        }
      ],
      "source": [
        "a=2\n",
        "print(type(a))\n",
        "a=32.00\n",
        "print(type(a))\n",
        "a=1+2j\n",
        "print(type(a))\n",
        "a=\"Hello\"\n",
        "print(type(a))\n",
        "a=True\n",
        "print(type(a))\n"
      ]
    },
    {
      "cell_type": "markdown",
      "source": [
        "List"
      ],
      "metadata": {
        "id": "ueUyqmTmRNJ1"
      }
    },
    {
      "cell_type": "code",
      "source": [
        "a=[1,\"helo\",True,32.4]    #This is a list which is ordered , mutable(changable) collection\n",
        "print(type(a))\n",
        "\n"
      ],
      "metadata": {
        "id": "VLQq2HcjQJh-",
        "outputId": "b601c851-86f2-4f4d-d66b-937b5ecd2c5c",
        "colab": {
          "base_uri": "https://localhost:8080/"
        }
      },
      "execution_count": 6,
      "outputs": [
        {
          "output_type": "stream",
          "name": "stdout",
          "text": [
            "<class 'list'>\n"
          ]
        }
      ]
    },
    {
      "cell_type": "markdown",
      "source": [
        "Tuple"
      ],
      "metadata": {
        "id": "sitedqF0RQ7O"
      }
    },
    {
      "cell_type": "code",
      "source": [
        "# Tuple - ordered, immutable (unchangeable) collection\n",
        "coordinates = (10, 20)\n",
        "colors = (\"red\", \"green\", \"blue\")\n",
        "single_item = (42)  # Note the comma for single item tuple"
      ],
      "metadata": {
        "id": "Kj7lyTWkRS1P"
      },
      "execution_count": 9,
      "outputs": []
    },
    {
      "cell_type": "code",
      "source": [
        "a=(32,\"hiii\",False)\n",
        "print(type(a))\n",
        "multiline = \"\"\"This is a\n",
        "multiline string\n",
        "spanning several lines\"\"\"\n",
        "print(type(multiline))\n",
        "print(multiline)"
      ],
      "metadata": {
        "id": "AxOJQVTRQwG6"
      },
      "execution_count": null,
      "outputs": []
    },
    {
      "cell_type": "code",
      "source": [
        "#To print any number of times\n",
        "print(\"-\" * 5)"
      ],
      "metadata": {
        "id": "-_abf1kNQMdK",
        "outputId": "624c8792-cc9c-4640-fdf9-0cf471bfd541",
        "colab": {
          "base_uri": "https://localhost:8080/"
        }
      },
      "execution_count": 5,
      "outputs": [
        {
          "output_type": "stream",
          "name": "stdout",
          "text": [
            "-----\n"
          ]
        }
      ]
    },
    {
      "cell_type": "code",
      "source": [],
      "metadata": {
        "id": "kLLFUr51QdkT"
      },
      "execution_count": null,
      "outputs": []
    }
  ]
}